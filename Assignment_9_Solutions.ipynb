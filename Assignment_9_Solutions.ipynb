{
 "cells": [
  {
   "cell_type": "markdown",
   "metadata": {},
   "source": [
    "## Task 1 (Question : 1)\n",
    " You survey households in your area to find the average rent they are paying. Find the standard deviation from the following data:\n",
    "$1550,$1700,$900,$850,$1000,$950"
   ]
  },
  {
   "cell_type": "code",
   "execution_count": 1,
   "metadata": {
    "scrolled": true
   },
   "outputs": [
    {
     "name": "stdout",
     "output_type": "stream",
     "text": [
      "List of given rents are :  (1550, 1700, 900, 850, 1000, 950)\n",
      "Sample Standard deviation is :  367.99004\n"
     ]
    }
   ],
   "source": [
    "import statistics as stat\n",
    "\n",
    "rents =1550,1700,900,850,1000,950\n",
    "print(\"List of given rents are : \",rents)\n",
    "\n",
    "sample_sd = stat.stdev(rents)\n",
    "\n",
    "print(\"Sample Standard deviation is : \",round(sample_sd,5))"
   ]
  },
  {
   "cell_type": "markdown",
   "metadata": {},
   "source": [
    "## Task -1 (Question: 2)\n",
    " Find the variance for the following set of data representing tress in california (heights in feet):\n",
    " 3,21,98,203,17,9"
   ]
  },
  {
   "cell_type": "code",
   "execution_count": 2,
   "metadata": {},
   "outputs": [
    {
     "name": "stdout",
     "output_type": "stream",
     "text": [
      "The heights of trees in california are :  (3, 21, 98, 203, 17, 9)\n",
      "Sample variance is :  6219.9\n"
     ]
    }
   ],
   "source": [
    "import statistics as stat\n",
    "\n",
    "heights = 3,21,98,203,17,9\n",
    "print(\"The heights of trees in california are : \", heights)\n",
    "\n",
    "sample_variance = stat.variance(heights)\n",
    "\n",
    "print(\"Sample variance is : \",sample_variance)"
   ]
  },
  {
   "cell_type": "markdown",
   "metadata": {},
   "source": [
    "## Task 1 (Question:3)\n",
    " In a class on 100 students, 80 students passed in all subjects, 10 failed in one subject, 7 failed in two subjects and 3 failed in three subjects. Find the probability distribution of the variable for no.of subjects a student from the given class has failed in."
   ]
  },
  {
   "cell_type": "code",
   "execution_count": 3,
   "metadata": {},
   "outputs": [
    {
     "name": "stdout",
     "output_type": "stream",
     "text": [
      "The probability distribution is :\n",
      "    P(X)\n",
      "X      \n",
      "0  0.80\n",
      "1  0.10\n",
      "2  0.07\n",
      "3  0.03\n"
     ]
    }
   ],
   "source": [
    "import pandas as pd\n",
    "\n",
    "strength = 100\n",
    "all_pass = 80\n",
    "one_sub_fail = 10\n",
    "two_sub_fail = 7\n",
    "three_sub_fail = 3\n",
    "\n",
    "# probability distribution for each data set P(x), where x is no.of subjects\n",
    "prob_no_fail = all_pass/strength\n",
    "prob_one_sub_fail = one_sub_fail/strength\n",
    "prob_two_sub_fail = two_sub_fail/strength\n",
    "prob_three_sub_fail = three_sub_fail/strength\n",
    "\n",
    "data = [[0,prob_no_fail],[1,prob_one_sub_fail],[2,prob_two_sub_fail],[3,prob_three_sub_fail]]\n",
    "prob_dist_data = pd.DataFrame(data,columns=['X','P(X)'])\n",
    "prob_dist_data= prob_dist_data.set_index('X')\n",
    "print(\"The probability distribution is :\\n\",prob_dist_data)\n"
   ]
  },
  {
   "cell_type": "markdown",
   "metadata": {},
   "source": [
    "## Task: 2 (Question : 1)\n",
    "  A test is conducted which is consisting of 20 MCQs with every MCQ having its four options out of which only one is correct. Determine the probability that a person undertaking that test has answered exactly 5 questions wrong.\n"
   ]
  },
  {
   "cell_type": "code",
   "execution_count": 4,
   "metadata": {},
   "outputs": [
    {
     "name": "stdout",
     "output_type": "stream",
     "text": [
      "The probability of answering exactly 5 wrong MCQs is : 0.0000034265 \n"
     ]
    }
   ],
   "source": [
    "import math\n",
    "\n",
    "def cal_combination(x,y):\n",
    "    comb = math.factorial(x)/(math.factorial(y)*math.factorial(x-y))\n",
    "    return comb\n",
    "\n",
    "n = 20     # Total MCQs\n",
    "k = 5      # Wrong MCQs\n",
    "Total_options  = 4\n",
    "correct_option = 1\n",
    "\n",
    "correct_prob = correct_option/Total_options  # probability of correct answers probability\n",
    "wrong_prob   = 1-correct_prob                  # probability of wrong answers probability\n",
    "\n",
    "#calculating the binomial distribution. Formula = c(n,k)*(P**(n-k))((1-P)**k))\n",
    "\n",
    "prob_Five_wrong = (cal_combination(20,5))*(correct_prob**(n-k))*(wrong_prob**k)\n",
    "\n",
    "print(\"The probability of answering exactly 5 wrong MCQs is : %.10f \" % (prob_Five_wrong))"
   ]
  },
  {
   "cell_type": "markdown",
   "metadata": {},
   "source": [
    "## Task: 2 (Question : 2)\n",
    "  A die marked A to E is rolled 50 times. Find the probability of getting a \"D\" exactly 5 times\n"
   ]
  },
  {
   "cell_type": "code",
   "execution_count": 5,
   "metadata": {},
   "outputs": [
    {
     "name": "stdout",
     "output_type": "stream",
     "text": [
      "The probability of getting 'D' exactly 5 times is:  0.02953\n"
     ]
    }
   ],
   "source": [
    "import math\n",
    "\n",
    "def cal_combination(x,y):\n",
    "    comb = math.factorial(x)/(math.factorial(y)*math.factorial(x-y))\n",
    "    return comb\n",
    "\n",
    "n = 50     # Total rolls\n",
    "k = 5      # freq of \"D\" face occurence\n",
    "\n",
    "total_die_faces = 5\n",
    "total_d_faces = 1\n",
    "\n",
    "prob_of_d = total_d_faces/total_die_faces  # probability of \"D\" faces answers probability\n",
    "prob_non_d = 1-prob_of_d                   # probability of other faces(except D) probability\n",
    "\n",
    "#calculating the binomial distribution. Formula = c(n,k)*(P**(n-k))((1-P)**k))\n",
    "\n",
    "prob_five_D = (cal_combination(50,5))*(prob_of_d**k)*(prob_non_d**(n-k))\n",
    "\n",
    "print(\"The probability of getting 'D' exactly 5 times is: \", round(prob_five_D,5))"
   ]
  },
  {
   "cell_type": "markdown",
   "metadata": {},
   "source": [
    "## Task: 2 (Question : 3)\n",
    "  Two balls are drawn at random in succession without replacement from an urn containing 4 red balls and 6 black balls.\n",
    "\n",
    "Find the probabilites of all the possible outcomes\n"
   ]
  },
  {
   "cell_type": "code",
   "execution_count": 6,
   "metadata": {},
   "outputs": [
    {
     "name": "stdout",
     "output_type": "stream",
     "text": [
      "The possible outcomes are RR,BB,RB/BR \n",
      "\n",
      "The probability of both balls are red is :  0.13333\n",
      "The probability of both balls are black is :  0.33333\n",
      "The probability of one each(RB/BR) is :  0.53333\n"
     ]
    }
   ],
   "source": [
    "import math\n",
    "\n",
    "def cal_combination(x,y):\n",
    "    comb = math.factorial(x)/(math.factorial(y)*math.factorial(x-y))\n",
    "    return comb\n",
    "\n",
    "red = 4\n",
    "black =6\n",
    "total_balls = red + black\n",
    "each_draw = 2\n",
    "\n",
    "print(\"The possible outcomes are RR,BB,RB/BR \\n\")\n",
    "\n",
    "prob_RR = cal_combination(red,each_draw)/cal_combination(total_balls,each_draw)\n",
    "prob_BB = cal_combination(black,each_draw)/cal_combination(total_balls,each_draw)\n",
    "prob_one_each = (cal_combination(red,each_draw-1)*cal_combination(black,each_draw-1))/cal_combination(total_balls,each_draw)\n",
    "\n",
    "print(\"The probability of both balls are red is : \",round(prob_RR,5))\n",
    "print(\"The probability of both balls are black is : \",round(prob_BB,5))\n",
    "print(\"The probability of one each(RB/BR) is : \",round(prob_one_each,5))"
   ]
  }
 ],
 "metadata": {
  "kernelspec": {
   "display_name": "Python 3",
   "language": "python",
   "name": "python3"
  },
  "language_info": {
   "codemirror_mode": {
    "name": "ipython",
    "version": 3
   },
   "file_extension": ".py",
   "mimetype": "text/x-python",
   "name": "python",
   "nbconvert_exporter": "python",
   "pygments_lexer": "ipython3",
   "version": "3.6.5"
  }
 },
 "nbformat": 4,
 "nbformat_minor": 2
}
